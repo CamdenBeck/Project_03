{
 "cells": [
  {
   "cell_type": "code",
   "execution_count": 2,
   "metadata": {},
   "outputs": [],
   "source": [
    "#imports\n",
    "from pathlib import Path\n",
    "import pandas as pd"
   ]
  },
  {
   "cell_type": "code",
   "execution_count": 3,
   "metadata": {},
   "outputs": [
    {
     "data": {
      "text/html": [
       "<div>\n",
       "<style scoped>\n",
       "    .dataframe tbody tr th:only-of-type {\n",
       "        vertical-align: middle;\n",
       "    }\n",
       "\n",
       "    .dataframe tbody tr th {\n",
       "        vertical-align: top;\n",
       "    }\n",
       "\n",
       "    .dataframe thead th {\n",
       "        text-align: right;\n",
       "    }\n",
       "</style>\n",
       "<table border=\"1\" class=\"dataframe\">\n",
       "  <thead>\n",
       "    <tr style=\"text-align: right;\">\n",
       "      <th></th>\n",
       "      <th>tbl</th>\n",
       "      <th>Year</th>\n",
       "      <th>quarter</th>\n",
       "      <th>departure_city_id</th>\n",
       "      <th>arrival_city_id</th>\n",
       "      <th>departure_city</th>\n",
       "      <th>arrival_city</th>\n",
       "      <th>departure_airport_id</th>\n",
       "      <th>arrival_airport_id</th>\n",
       "      <th>departure_airport</th>\n",
       "      <th>...</th>\n",
       "      <th>large_ms</th>\n",
       "      <th>fare_lg</th>\n",
       "      <th>carrier_low</th>\n",
       "      <th>lf_ms</th>\n",
       "      <th>fare_low</th>\n",
       "      <th>tbl1apk</th>\n",
       "      <th>departure_latitude</th>\n",
       "      <th>departure_longitude</th>\n",
       "      <th>arrival_latitude</th>\n",
       "      <th>arrival_longitude</th>\n",
       "    </tr>\n",
       "  </thead>\n",
       "  <tbody>\n",
       "    <tr>\n",
       "      <th>0</th>\n",
       "      <td>Table 1a</td>\n",
       "      <td>2010</td>\n",
       "      <td>1</td>\n",
       "      <td>34614</td>\n",
       "      <td>33195</td>\n",
       "      <td>Salt Lake City, UT</td>\n",
       "      <td>Tampa, FL (Metropolitan Area)</td>\n",
       "      <td>14869</td>\n",
       "      <td>15304</td>\n",
       "      <td>SLC</td>\n",
       "      <td>...</td>\n",
       "      <td>0.38</td>\n",
       "      <td>247.69</td>\n",
       "      <td>US Airways Group Inc.</td>\n",
       "      <td>0.20</td>\n",
       "      <td>166.99</td>\n",
       "      <td>201011486915304SLCTPA</td>\n",
       "      <td>40.758478</td>\n",
       "      <td>-111.888142</td>\n",
       "      <td>37.860600</td>\n",
       "      <td>-78.804199</td>\n",
       "    </tr>\n",
       "    <tr>\n",
       "      <th>1</th>\n",
       "      <td>Table 1a</td>\n",
       "      <td>1998</td>\n",
       "      <td>4</td>\n",
       "      <td>30189</td>\n",
       "      <td>31703</td>\n",
       "      <td>Colorado Springs, CO</td>\n",
       "      <td>New York City, NY (Metropolitan Area)</td>\n",
       "      <td>11109</td>\n",
       "      <td>12197</td>\n",
       "      <td>COS</td>\n",
       "      <td>...</td>\n",
       "      <td>0.73</td>\n",
       "      <td>292.60</td>\n",
       "      <td>Northwest Airlines Inc.</td>\n",
       "      <td>0.24</td>\n",
       "      <td>248.27</td>\n",
       "      <td>199841110912197COSHPN</td>\n",
       "      <td>38.835224</td>\n",
       "      <td>-104.819798</td>\n",
       "      <td>40.123164</td>\n",
       "      <td>-75.333718</td>\n",
       "    </tr>\n",
       "    <tr>\n",
       "      <th>2</th>\n",
       "      <td>Table 1a</td>\n",
       "      <td>1998</td>\n",
       "      <td>4</td>\n",
       "      <td>30198</td>\n",
       "      <td>30852</td>\n",
       "      <td>Pittsburgh, PA</td>\n",
       "      <td>Washington, DC (Metropolitan Area)</td>\n",
       "      <td>14122</td>\n",
       "      <td>10821</td>\n",
       "      <td>PIT</td>\n",
       "      <td>...</td>\n",
       "      <td>0.93</td>\n",
       "      <td>245.70</td>\n",
       "      <td>Continental Airlines Inc.</td>\n",
       "      <td>0.03</td>\n",
       "      <td>71.30</td>\n",
       "      <td>199841412210821PITBWI</td>\n",
       "      <td>40.442169</td>\n",
       "      <td>-79.994945</td>\n",
       "      <td>38.892062</td>\n",
       "      <td>-77.019912</td>\n",
       "    </tr>\n",
       "    <tr>\n",
       "      <th>3</th>\n",
       "      <td>Table 1a</td>\n",
       "      <td>2009</td>\n",
       "      <td>3</td>\n",
       "      <td>32211</td>\n",
       "      <td>32575</td>\n",
       "      <td>Las Vegas, NV</td>\n",
       "      <td>Los Angeles, CA (Metropolitan Area)</td>\n",
       "      <td>12889</td>\n",
       "      <td>14908</td>\n",
       "      <td>LAS</td>\n",
       "      <td>...</td>\n",
       "      <td>0.58</td>\n",
       "      <td>118.28</td>\n",
       "      <td>US Airways Group Inc.</td>\n",
       "      <td>0.41</td>\n",
       "      <td>102.75</td>\n",
       "      <td>200931288914908LASSNA</td>\n",
       "      <td>36.169202</td>\n",
       "      <td>-115.140597</td>\n",
       "      <td>34.052238</td>\n",
       "      <td>-118.243344</td>\n",
       "    </tr>\n",
       "    <tr>\n",
       "      <th>4</th>\n",
       "      <td>Table 1a</td>\n",
       "      <td>1993</td>\n",
       "      <td>4</td>\n",
       "      <td>30255</td>\n",
       "      <td>30852</td>\n",
       "      <td>Huntsville, AL</td>\n",
       "      <td>Washington, DC (Metropolitan Area)</td>\n",
       "      <td>12217</td>\n",
       "      <td>12264</td>\n",
       "      <td>HSV</td>\n",
       "      <td>...</td>\n",
       "      <td>0.48</td>\n",
       "      <td>275.50</td>\n",
       "      <td>United Air Lines Inc.</td>\n",
       "      <td>0.25</td>\n",
       "      <td>197.69</td>\n",
       "      <td>199341221712264HSVIAD</td>\n",
       "      <td>34.729538</td>\n",
       "      <td>-86.585283</td>\n",
       "      <td>38.892062</td>\n",
       "      <td>-77.019912</td>\n",
       "    </tr>\n",
       "  </tbody>\n",
       "</table>\n",
       "<p>5 rows × 25 columns</p>\n",
       "</div>"
      ],
      "text/plain": [
       "        tbl  Year  quarter  departure_city_id  arrival_city_id  \\\n",
       "0  Table 1a  2010        1              34614            33195   \n",
       "1  Table 1a  1998        4              30189            31703   \n",
       "2  Table 1a  1998        4              30198            30852   \n",
       "3  Table 1a  2009        3              32211            32575   \n",
       "4  Table 1a  1993        4              30255            30852   \n",
       "\n",
       "         departure_city                           arrival_city  \\\n",
       "0    Salt Lake City, UT          Tampa, FL (Metropolitan Area)   \n",
       "1  Colorado Springs, CO  New York City, NY (Metropolitan Area)   \n",
       "2        Pittsburgh, PA     Washington, DC (Metropolitan Area)   \n",
       "3         Las Vegas, NV    Los Angeles, CA (Metropolitan Area)   \n",
       "4        Huntsville, AL     Washington, DC (Metropolitan Area)   \n",
       "\n",
       "   departure_airport_id  arrival_airport_id departure_airport  ... large_ms  \\\n",
       "0                 14869               15304               SLC  ...     0.38   \n",
       "1                 11109               12197               COS  ...     0.73   \n",
       "2                 14122               10821               PIT  ...     0.93   \n",
       "3                 12889               14908               LAS  ...     0.58   \n",
       "4                 12217               12264               HSV  ...     0.48   \n",
       "\n",
       "   fare_lg                carrier_low  lf_ms fare_low                tbl1apk  \\\n",
       "0   247.69      US Airways Group Inc.   0.20   166.99  201011486915304SLCTPA   \n",
       "1   292.60    Northwest Airlines Inc.   0.24   248.27  199841110912197COSHPN   \n",
       "2   245.70  Continental Airlines Inc.   0.03    71.30  199841412210821PITBWI   \n",
       "3   118.28      US Airways Group Inc.   0.41   102.75  200931288914908LASSNA   \n",
       "4   275.50      United Air Lines Inc.   0.25   197.69  199341221712264HSVIAD   \n",
       "\n",
       "   departure_latitude departure_longitude  arrival_latitude  arrival_longitude  \n",
       "0           40.758478         -111.888142         37.860600         -78.804199  \n",
       "1           38.835224         -104.819798         40.123164         -75.333718  \n",
       "2           40.442169          -79.994945         38.892062         -77.019912  \n",
       "3           36.169202         -115.140597         34.052238        -118.243344  \n",
       "4           34.729538          -86.585283         38.892062         -77.019912  \n",
       "\n",
       "[5 rows x 25 columns]"
      ]
     },
     "execution_count": 3,
     "metadata": {},
     "output_type": "execute_result"
    }
   ],
   "source": [
    "# Define the path to the file\n",
    "flight_data = Path(\"../Data/CSV/cleaned_flight_data.csv\")\n",
    "\n",
    "# Read the data from the file\n",
    "flight_data_df = pd.read_csv(flight_data)\n",
    "flight_data_df.head()"
   ]
  },
  {
   "cell_type": "code",
   "execution_count": 4,
   "metadata": {},
   "outputs": [
    {
     "name": "stdout",
     "output_type": "stream",
     "text": [
      "<class 'pandas.core.frame.DataFrame'>\n",
      "RangeIndex: 205189 entries, 0 to 205188\n",
      "Data columns (total 25 columns):\n",
      " #   Column                Non-Null Count   Dtype  \n",
      "---  ------                --------------   -----  \n",
      " 0   tbl                   205189 non-null  object \n",
      " 1   Year                  205189 non-null  int64  \n",
      " 2   quarter               205189 non-null  int64  \n",
      " 3   departure_city_id     205189 non-null  int64  \n",
      " 4   arrival_city_id       205189 non-null  int64  \n",
      " 5   departure_city        205189 non-null  object \n",
      " 6   arrival_city          205189 non-null  object \n",
      " 7   departure_airport_id  205189 non-null  int64  \n",
      " 8   arrival_airport_id    205189 non-null  int64  \n",
      " 9   departure_airport     205189 non-null  object \n",
      " 10  arrival_airport       205189 non-null  object \n",
      " 11  nsmiles               205189 non-null  int64  \n",
      " 12  passengers            205189 non-null  int64  \n",
      " 13  fare                  205189 non-null  float64\n",
      " 14  carrier_lg            205189 non-null  object \n",
      " 15  large_ms              205189 non-null  float64\n",
      " 16  fare_lg               205189 non-null  float64\n",
      " 17  carrier_low           205189 non-null  object \n",
      " 18  lf_ms                 205189 non-null  float64\n",
      " 19  fare_low              205189 non-null  float64\n",
      " 20  tbl1apk               205189 non-null  object \n",
      " 21  departure_latitude    205189 non-null  float64\n",
      " 22  departure_longitude   205189 non-null  float64\n",
      " 23  arrival_latitude      205189 non-null  float64\n",
      " 24  arrival_longitude     205189 non-null  float64\n",
      "dtypes: float64(9), int64(8), object(8)\n",
      "memory usage: 39.1+ MB\n"
     ]
    }
   ],
   "source": [
    "flight_data_df.info()"
   ]
  },
  {
   "cell_type": "code",
   "execution_count": 5,
   "metadata": {},
   "outputs": [
    {
     "data": {
      "text/plain": [
       "Index(['tbl', 'Year', 'quarter', 'departure_city_id', 'arrival_city_id',\n",
       "       'departure_city', 'arrival_city', 'departure_airport_id',\n",
       "       'arrival_airport_id', 'departure_airport', 'arrival_airport', 'nsmiles',\n",
       "       'passengers', 'fare', 'carrier_lg', 'large_ms', 'fare_lg',\n",
       "       'carrier_low', 'lf_ms', 'fare_low', 'tbl1apk', 'departure_latitude',\n",
       "       'departure_longitude', 'arrival_latitude', 'arrival_longitude'],\n",
       "      dtype='object')"
      ]
     },
     "execution_count": 5,
     "metadata": {},
     "output_type": "execute_result"
    }
   ],
   "source": [
    "flight_data_df.columns"
   ]
  },
  {
   "cell_type": "code",
   "execution_count": 6,
   "metadata": {},
   "outputs": [
    {
     "name": "stdout",
     "output_type": "stream",
     "text": [
      "178\n"
     ]
    }
   ],
   "source": [
    "departure_airport = flight_data_df['departure_airport'].unique()\n",
    "print(len(departure_airport))"
   ]
  },
  {
   "cell_type": "code",
   "execution_count": 7,
   "metadata": {},
   "outputs": [
    {
     "name": "stdout",
     "output_type": "stream",
     "text": [
      "163\n"
     ]
    }
   ],
   "source": [
    "arrival_airport =flight_data_df['arrival_airport'].unique()\n",
    "print(len(arrival_airport))"
   ]
  },
  {
   "cell_type": "code",
   "execution_count": 8,
   "metadata": {},
   "outputs": [
    {
     "name": "stdout",
     "output_type": "stream",
     "text": [
      "136\n"
     ]
    }
   ],
   "source": [
    "departure_city = flight_data_df['departure_city'].unique()\n",
    "print(len(departure_city))"
   ]
  },
  {
   "cell_type": "code",
   "execution_count": 9,
   "metadata": {},
   "outputs": [
    {
     "name": "stdout",
     "output_type": "stream",
     "text": [
      "121\n"
     ]
    }
   ],
   "source": [
    "arrival_city = flight_data_df['arrival_city'].unique()\n",
    "print(len(arrival_city))"
   ]
  },
  {
   "cell_type": "code",
   "execution_count": 10,
   "metadata": {},
   "outputs": [
    {
     "name": "stdout",
     "output_type": "stream",
     "text": [
      "Correlation Matrix:\n",
      "           large_ms   fare_lg     lf_ms  fare_low\n",
      "large_ms  1.000000 -0.178920  0.521937 -0.091604\n",
      "fare_lg  -0.178920  1.000000 -0.235000  0.839224\n",
      "lf_ms     0.521937 -0.235000  1.000000  0.041644\n",
      "fare_low -0.091604  0.839224  0.041644  1.000000\n"
     ]
    }
   ],
   "source": [
    "# Compute the correlation matrix for the relevant columns\n",
    "correlation_matrix = flight_data_df[['large_ms', 'fare_lg', 'lf_ms', 'fare_low']].corr()\n",
    "print(\"Correlation Matrix:\\n\", correlation_matrix)"
   ]
  },
  {
   "cell_type": "markdown",
   "metadata": {},
   "source": [
    "### Correlation Matrix:\n",
    "The correlation matrix shows relationships between market shares and fares:\n",
    "\n",
    "- `large_ms` and `fare_lg`: Weak negative correlation of -0.18.\n",
    "- `lf_ms` and `fare_lg`: Negative correlation of -0.24.\n",
    "- `fare_lg` and `fare_low`: Strong positive correlation of 0.84."
   ]
  },
  {
   "cell_type": "code",
   "execution_count": 11,
   "metadata": {},
   "outputs": [
    {
     "name": "stdout",
     "output_type": "stream",
     "text": [
      "Highest Fares:\n",
      " fare_lg     2725.6\n",
      "fare_low    2725.6\n",
      "dtype: float64\n",
      "Lowest Fares:\n",
      " fare_lg     50.0\n",
      "fare_low    50.0\n",
      "dtype: float64\n",
      "Average Fares:\n",
      " fare_lg     216.240639\n",
      "fare_low    188.975523\n",
      "dtype: float64\n"
     ]
    }
   ],
   "source": [
    "# Fixing the code\n",
    "highest_fare = flight_data_df[['fare_lg', 'fare_low']].max()\n",
    "lowest_fare = flight_data_df[['fare_lg', 'fare_low']].min()\n",
    "average_fare = flight_data_df[['fare_lg', 'fare_low']].mean()\n",
    "\n",
    "print(\"Highest Fares:\\n\", highest_fare)\n",
    "print(\"Lowest Fares:\\n\", lowest_fare)\n",
    "print(\"Average Fares:\\n\", average_fare)"
   ]
  },
  {
   "cell_type": "markdown",
   "metadata": {},
   "source": [
    "### Fare Distribution:\n",
    "- The highest fares for both the largest and lowest carriers are the same (2725.6), which is unusual but could be a dataset characteristic.\n",
    "- The lowest fares for both carriers are identical (50.0).\n",
    "- Average fares differ slightly: the largest carrier charges an average of 216.24, while the lowest fare carrier charges 188.98."
   ]
  },
  {
   "cell_type": "code",
   "execution_count": 11,
   "metadata": {},
   "outputs": [
    {
     "name": "stdout",
     "output_type": "stream",
     "text": [
      "\n",
      "Correlation between fare and passengers:\n",
      "                fare  passengers\n",
      "fare        1.00000    -0.19278\n",
      "passengers -0.19278     1.00000\n"
     ]
    }
   ],
   "source": [
    "# Correlation between fare and passengers (demand)\n",
    "correlation_fare_passengers = flight_data_df[['fare', 'passengers']].corr()\n",
    "print(\"\\nCorrelation between fare and passengers:\\n\", correlation_fare_passengers)"
   ]
  },
  {
   "cell_type": "markdown",
   "metadata": {},
   "source": [
    "### Correlation between Fare and Passengers:\n",
    "- The correlation of -0.19278 suggests a weak negative relationship between fare and passengers. \n",
    "- As fare increases, the number of passengers tends to decrease slightly, but the correlation is not strong."
   ]
  },
  {
   "cell_type": "markdown",
   "metadata": {},
   "source": [
    "### Final Summary:\n",
    "- The correlation between fare and passengers is weak, indicating that price increases do not significantly decrease passenger numbers.\n",
    "- Fare statistics reveal that while both largest and lowest carriers have identical highest and lowest fares, their average fares differ slightly."
   ]
  },
  {
   "cell_type": "code",
   "execution_count": 20,
   "metadata": {},
   "outputs": [
    {
     "name": "stdout",
     "output_type": "stream",
     "text": [
      "27\n"
     ]
    }
   ],
   "source": [
    "year = flight_data_df[\"Year\"].unique()\n",
    "print(len(year))"
   ]
  },
  {
   "cell_type": "markdown",
   "metadata": {},
   "source": [
    "### Calculate Flight Demand by Year and Quarter"
   ]
  },
  {
   "cell_type": "code",
   "execution_count": 21,
   "metadata": {},
   "outputs": [
    {
     "name": "stdout",
     "output_type": "stream",
     "text": [
      "The year with the highest flight demand was 2017 with total passengers of 3086637.\n",
      "The quarter with the highest flight demand in 2017 was Q2 with passengers 813003.\n"
     ]
    }
   ],
   "source": [
    "\n",
    "#Group the data by Year and Quarter, summing the passengers\n",
    "flight_demand_by_year_quarter = flight_data_df.groupby(['Year', 'quarter'])['passengers'].sum()\n",
    "\n",
    "# Step 3: Find the year with the highest flight demand (highest sum of passengers)\n",
    "best_demand_year = flight_demand_by_year_quarter.groupby('Year').sum().idxmax()\n",
    "best_demand_year_sales = flight_demand_by_year_quarter.groupby('Year').sum().max()\n",
    "\n",
    "# Step 4: Find the quarter with the highest flight demand within the best year\n",
    "best_demand_quarter = flight_demand_by_year_quarter[best_demand_year].idxmax()\n",
    "best_demand_quarter_sales = flight_demand_by_year_quarter[best_demand_year].max()\n",
    "\n",
    "# Output the results\n",
    "print(f\"The year with the highest flight demand was {best_demand_year} with total passengers of {best_demand_year_sales}.\")\n",
    "print(f\"The quarter with the highest flight demand in {best_demand_year} was Q{best_demand_quarter} with passengers {best_demand_quarter_sales}.\")"
   ]
  },
  {
   "cell_type": "markdown",
   "metadata": {},
   "source": [
    "Flight Demand Analysis:\n",
    "\n",
    "- **Year with Highest Flight Demand**: 2017 with 3,086,637 passengers.\n",
    "- **Quarter with Highest Flight Demand in 2017**: Q2 (April - June) with 813,003 passengers.\n",
    "\n",
    "**Statistical Insight**: \n",
    "The highest flight demand in 2017 occurred in Q2, which could be due to increased travel during summer vacation months, business travel, or public holidays. These periods often see a surge in passengers."
   ]
  },
  {
   "cell_type": "markdown",
   "metadata": {},
   "source": [
    "### Calculate Revenue by Year and Quarter"
   ]
  },
  {
   "cell_type": "code",
   "execution_count": 22,
   "metadata": {},
   "outputs": [
    {
     "name": "stdout",
     "output_type": "stream",
     "text": [
      "The year with the best revenue was 2017 with total revenue of 632009964.4300001.\n",
      "The quarter with the best revenue in 2017 was Q2 with revenue 171378275.99.\n"
     ]
    }
   ],
   "source": [
    "# Calculate the total revenue per record (fare * passengers)\n",
    "flight_data_df['revenue'] = flight_data_df['fare'] * flight_data_df['passengers']\n",
    "\n",
    "# Group the data by Year and Quarter, summing the revenue\n",
    "revenue_by_year_quarter = flight_data_df.groupby(['Year', 'quarter'])['revenue'].sum()\n",
    "\n",
    "# Find the year with the highest revenue (best sales)\n",
    "best_revenue_year = revenue_by_year_quarter.groupby('Year').sum().idxmax()\n",
    "best_revenue_year_total = revenue_by_year_quarter.groupby('Year').sum().max()\n",
    "\n",
    "# Find the quarter with the highest revenue within the best year\n",
    "best_revenue_quarter = revenue_by_year_quarter[best_revenue_year].idxmax()\n",
    "best_revenue_quarter_total = revenue_by_year_quarter[best_revenue_year].max()\n",
    "\n",
    "# Output the results\n",
    "print(f\"The year with the best revenue was {best_revenue_year} with total revenue of {best_revenue_year_total}.\")\n",
    "print(f\"The quarter with the best revenue in {best_revenue_year} was Q{best_revenue_quarter} with revenue {best_revenue_quarter_total}.\")"
   ]
  },
  {
   "cell_type": "markdown",
   "metadata": {},
   "source": [
    "Revenue Analysis:\n",
    "- Multiplying fare × passengers gives total revenue, which helps measure how much airlines earned from ticket sales rather than just looking at the number of flights or passengers alone.\n",
    "- **Year with the Best Revenue**: 2017 with a total revenue of \\$632,009,964.43.\n",
    "- **Quarter with the Best Revenue in 2017**: Q2 (April - June) with a revenue of \\$171,378,275.99.\n",
    "\n",
    "**Statistical Insight**:\n",
    "Q2 of 2017 generated the highest revenue, likely due to increased flight demand during the summer travel season. This suggests that airlines capitalize on peak travel times, offering more flights and possibly higher fares during such quarters. The significant revenue in Q2 emphasizes the importance of seasonal demand on airline profitability."
   ]
  },
  {
   "cell_type": "markdown",
   "metadata": {},
   "source": [
    "Top Airlines by Revenue in 2017"
   ]
  },
  {
   "cell_type": "code",
   "execution_count": 27,
   "metadata": {},
   "outputs": [
    {
     "name": "stdout",
     "output_type": "stream",
     "text": [
      "Top Airlines by Revenue in 2017:\n",
      "                                carrier_lg       revenue\n",
      "7                   Southwest Airlines Co.  1.679892e+08\n",
      "3                   American Airlines Inc.  1.505850e+08\n",
      "10                   United Air Lines Inc.  1.281970e+08\n",
      "4                     Delta Air Lines Inc.  1.134274e+08\n",
      "6                          JetBlue Airways  3.773637e+07\n",
      "1                     Alaska Airlines Inc.  2.291833e+07\n",
      "11                          Virgin America  3.457048e+06\n",
      "5                   Frontier Airlines Inc.  3.283271e+06\n",
      "2                            Allegiant Air  2.373924e+06\n",
      "8                         Spirit Air Lines  1.534200e+06\n",
      "9   Sun Country Airlines d/b/a MN Airlines  5.082213e+05\n"
     ]
    }
   ],
   "source": [
    "# finding which airline did the best in 2017 \n",
    "# filter for 2017 data\n",
    "data_2017 = flight_data_df[flight_data_df['Year'] == 2017]\n",
    "\n",
    "# Group by airline (carrier_lg) and sum the revenue\n",
    "airline_revenue_2017 = data_2017.groupby('carrier_lg')['revenue'].sum().reset_index()\n",
    "\n",
    "# Sort by revenue in descending order\n",
    "airline_revenue_2017 = airline_revenue_2017.sort_values(by='revenue', ascending=False)\n",
    "\n",
    "# Display the top airlines with highest revenue in 2017\n",
    "print(\"Top Airlines by Revenue in 2017:\")\n",
    "print(airline_revenue_2017.head(11))  # Show top 10 airlines"
   ]
  },
  {
   "cell_type": "markdown",
   "metadata": {},
   "source": [
    "1. Southwest Airlines Co. - 167.99 million dollars\n",
    "2. American Airlines Inc. - 150.59 million dollars\n",
    "3. United Air Lines Inc. - 128.20 million dollars\n",
    "4. Delta Air Lines Inc. - 113.43 million dollars\n",
    "5. JetBlue Airways - 37.74 million dollars\n",
    "6. Alaska Airlines Inc. - 22.92 million dollars\n",
    "7. Virgin America - 3.46 million dollars\n",
    "8. Frontier Airlines Inc. - 3.28 million dollars\n",
    "9. Allegiant Air - 2.37 million dollars\n",
    "10. Spirit Air Lines - 1.53 million dollars\n",
    "11. Sun Country Airlines d/b/a MN Airlines - 0.51 million dollars\n",
    "\n",
    "We are using carrier_lg because it represents the largest carrier by passengers for each flight route. This allows us to analyze which airlines generated the most revenue in 2017"
   ]
  },
  {
   "cell_type": "markdown",
   "metadata": {},
   "source": [
    "Top Airlines by Revenue in 2017:\n",
    "\n",
    "- **Top Airline by Revenue**: Southwest Airlines Co. with \\$167.99 million in revenue.\n",
    "- **Other Notable Airlines**:\n",
    "    - American Airlines Inc. - \\$150.59 million\n",
    "    - United Air Lines Inc. - \\$128.20 million\n",
    "    - Delta Air Lines Inc. - \\$113.43 million\n",
    "    - JetBlue Airways - \\$37.74 million\n",
    "\n",
    "**Statistical Insight**:\n",
    "Southwest Airlines led the revenue charts in 2017, generating almost \\$168 million. This is indicative of their dominant market position. On the other hand, airlines like Sun Country and Spirit generated the least revenue, pointing to the impact of market share, route offerings, and operational strategies on airline earnings."
   ]
  },
  {
   "cell_type": "markdown",
   "metadata": {},
   "source": [
    "Final Summary:\n",
    "\n",
    "- **Flight Demand**: The year 2017 and Q2 showed the highest flight demand, suggesting a peak travel season in the middle of the year.\n",
    "- **Revenue**: 2017 also stands out for the highest revenue, with Q2 leading, reflecting the strong correlation between increased travel and higher airline earnings.\n",
    "- **Airline Performance**: Southwest Airlines emerged as the top performer, highlighting the role of a large market share and efficient operations in driving revenue."
   ]
  },
  {
   "cell_type": "code",
   "execution_count": null,
   "metadata": {},
   "outputs": [],
   "source": []
  },
  {
   "cell_type": "code",
   "execution_count": null,
   "metadata": {},
   "outputs": [],
   "source": []
  }
 ],
 "metadata": {
  "kernelspec": {
   "display_name": "base",
   "language": "python",
   "name": "python3"
  },
  "language_info": {
   "codemirror_mode": {
    "name": "ipython",
    "version": 3
   },
   "file_extension": ".py",
   "mimetype": "text/x-python",
   "name": "python",
   "nbconvert_exporter": "python",
   "pygments_lexer": "ipython3",
   "version": "3.12.4"
  }
 },
 "nbformat": 4,
 "nbformat_minor": 2
}
