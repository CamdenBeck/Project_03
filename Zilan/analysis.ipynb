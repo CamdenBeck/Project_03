{
 "cells": [
  {
   "cell_type": "code",
   "execution_count": 2,
   "metadata": {},
   "outputs": [
    {
     "name": "stdout",
     "output_type": "stream",
     "text": [
      "       tbl  Year  quarter  citymarketid_1  citymarketid_2  \\\n",
      "0  Table1a  2021        3           30135           33195   \n",
      "1  Table1a  2021        3           30135           33195   \n",
      "2  Table1a  2021        3           30140           30194   \n",
      "3  Table1a  2021        3           30140           30194   \n",
      "4  Table1a  2021        3           30140           30466   \n",
      "\n",
      "                            city1                          city2  airportid_1  \\\n",
      "0  Allentown/Bethlehem/Easton, PA  Tampa, FL (Metropolitan Area)        10135   \n",
      "1  Allentown/Bethlehem/Easton, PA  Tampa, FL (Metropolitan Area)        10135   \n",
      "2                 Albuquerque, NM          Dallas/Fort Worth, TX        10140   \n",
      "3                 Albuquerque, NM          Dallas/Fort Worth, TX        10140   \n",
      "4                 Albuquerque, NM                    Phoenix, AZ        10140   \n",
      "\n",
      "   airportid_2 airport_1  ...    fare  carrier_lg  large_ms  fare_lg  \\\n",
      "0        14112       ABE  ...   81.43          G4    1.0000    81.43   \n",
      "1        15304       ABE  ...  208.93          DL    0.4659   219.98   \n",
      "2        11259       ABQ  ...  184.56          WN    0.9968   184.44   \n",
      "3        11298       ABQ  ...  182.64          AA    0.9774   183.09   \n",
      "4        14107       ABQ  ...  177.11          WN    0.6061   184.49   \n",
      "\n",
      "  carrier_low   lf_ms  fare_low Geocoded_City1  Geocoded_City2  \\\n",
      "0          G4  1.0000     81.43            NaN             NaN   \n",
      "1          UA  0.1193    154.11            NaN             NaN   \n",
      "2          WN  0.9968    184.44            NaN             NaN   \n",
      "3          AA  0.9774    183.09            NaN             NaN   \n",
      "4          AA  0.3939    165.77            NaN             NaN   \n",
      "\n",
      "                 tbl1apk  \n",
      "0  202131013514112ABEPIE  \n",
      "1  202131013515304ABETPA  \n",
      "2  202131014011259ABQDAL  \n",
      "3  202131014011298ABQDFW  \n",
      "4  202131014014107ABQPHX  \n",
      "\n",
      "[5 rows x 23 columns]\n"
     ]
    },
    {
     "name": "stderr",
     "output_type": "stream",
     "text": [
      "C:\\Users\\zilan\\AppData\\Local\\Temp\\ipykernel_8644\\3167642265.py:2: DtypeWarning: Columns (20,21) have mixed types. Specify dtype option on import or set low_memory=False.\n",
      "  df = pd.read_csv('C:/Users/zilan/DataClass/New folder/Project_03/Data/US Airline Flight Routes and Fares 1993-2024.csv')\n"
     ]
    }
   ],
   "source": [
    "import pandas as pd\n",
    "df = pd.read_csv('C:/Users/zilan/DataClass/New folder/Project_03/Data/US Airline Flight Routes and Fares 1993-2024.csv')\n",
    "print(df.head())"
   ]
  },
  {
   "cell_type": "code",
   "execution_count": 3,
   "metadata": {},
   "outputs": [
    {
     "name": "stdout",
     "output_type": "stream",
     "text": [
      "<class 'pandas.core.frame.DataFrame'>\n",
      "RangeIndex: 245955 entries, 0 to 245954\n",
      "Data columns (total 23 columns):\n",
      " #   Column          Non-Null Count   Dtype  \n",
      "---  ------          --------------   -----  \n",
      " 0   tbl             245955 non-null  object \n",
      " 1   Year            245955 non-null  int64  \n",
      " 2   quarter         245955 non-null  int64  \n",
      " 3   citymarketid_1  245955 non-null  int64  \n",
      " 4   citymarketid_2  245955 non-null  int64  \n",
      " 5   city1           245955 non-null  object \n",
      " 6   city2           245955 non-null  object \n",
      " 7   airportid_1     245955 non-null  int64  \n",
      " 8   airportid_2     245955 non-null  int64  \n",
      " 9   airport_1       245955 non-null  object \n",
      " 10  airport_2       245955 non-null  object \n",
      " 11  nsmiles         245955 non-null  int64  \n",
      " 12  passengers      245955 non-null  int64  \n",
      " 13  fare            245955 non-null  float64\n",
      " 14  carrier_lg      244415 non-null  object \n",
      " 15  large_ms        244415 non-null  float64\n",
      " 16  fare_lg         244415 non-null  float64\n",
      " 17  carrier_low     244343 non-null  object \n",
      " 18  lf_ms           244343 non-null  float64\n",
      " 19  fare_low        244343 non-null  float64\n",
      " 20  Geocoded_City1  206749 non-null  object \n",
      " 21  Geocoded_City2  206749 non-null  object \n",
      " 22  tbl1apk         245955 non-null  object \n",
      "dtypes: float64(5), int64(8), object(10)\n",
      "memory usage: 43.2+ MB\n",
      "None\n"
     ]
    }
   ],
   "source": [
    "print(df.info())"
   ]
  },
  {
   "cell_type": "code",
   "execution_count": 4,
   "metadata": {},
   "outputs": [
    {
     "name": "stdout",
     "output_type": "stream",
     "text": [
      "                Year        quarter  citymarketid_1  citymarketid_2  \\\n",
      "count  245955.000000  245955.000000   245955.000000   245955.000000   \n",
      "mean     2008.524124       2.479153    31556.430201    32180.117086   \n",
      "std         8.703364       1.122149     1089.872880     1232.464184   \n",
      "min      1993.000000       1.000000    30135.000000    30189.000000   \n",
      "25%      2001.000000       1.000000    30721.000000    30994.000000   \n",
      "50%      2008.000000       2.000000    31423.000000    32211.000000   \n",
      "75%      2016.000000       3.000000    32467.000000    33192.000000   \n",
      "max      2024.000000       4.000000    35412.000000    35628.000000   \n",
      "\n",
      "         airportid_1    airportid_2        nsmiles     passengers  \\\n",
      "count  245955.000000  245955.000000  245955.000000  245955.000000   \n",
      "mean    12437.099986   13249.889525    1189.812319     299.476795   \n",
      "std      1431.665257    1425.810159     703.143472     511.389486   \n",
      "min     10135.000000   10466.000000     109.000000       0.000000   \n",
      "25%     11193.000000   12197.000000     626.000000      21.000000   \n",
      "50%     12266.000000   13303.000000    1023.000000     113.000000   \n",
      "75%     13487.000000   14679.000000    1736.000000     339.000000   \n",
      "max     16440.000000   15919.000000    2724.000000    8301.000000   \n",
      "\n",
      "                fare       large_ms        fare_lg          lf_ms  \\\n",
      "count  245955.000000  244415.000000  244415.000000  244343.000000   \n",
      "mean      218.979587       0.665252     218.710963       0.450438   \n",
      "std        82.372486       0.224635      84.674363       0.332669   \n",
      "min        50.000000       0.003800      50.000000       0.010000   \n",
      "25%       164.620000       0.480000     161.500000       0.158000   \n",
      "50%       209.320000       0.652400     208.030000       0.360000   \n",
      "75%       262.890000       0.871900     263.640000       0.750000   \n",
      "max      3377.000000       1.000000    2725.600000       1.000000   \n",
      "\n",
      "            fare_low  \n",
      "count  244343.000000  \n",
      "mean      190.675939  \n",
      "std        73.577694  \n",
      "min        50.000000  \n",
      "25%       140.060000  \n",
      "50%       181.630000  \n",
      "75%       230.040000  \n",
      "max      2725.600000  \n"
     ]
    }
   ],
   "source": [
    "print(df.describe()) "
   ]
  },
  {
   "cell_type": "code",
   "execution_count": 5,
   "metadata": {},
   "outputs": [
    {
     "name": "stdout",
     "output_type": "stream",
     "text": [
      "Index(['tbl', 'Year', 'quarter', 'citymarketid_1', 'citymarketid_2', 'city1',\n",
      "       'city2', 'airportid_1', 'airportid_2', 'airport_1', 'airport_2',\n",
      "       'nsmiles', 'passengers', 'fare', 'carrier_lg', 'large_ms', 'fare_lg',\n",
      "       'carrier_low', 'lf_ms', 'fare_low', 'Geocoded_City1', 'Geocoded_City2',\n",
      "       'tbl1apk'],\n",
      "      dtype='object')\n"
     ]
    }
   ],
   "source": [
    "print(df.columns)"
   ]
  },
  {
   "cell_type": "code",
   "execution_count": 16,
   "metadata": {},
   "outputs": [
    {
     "name": "stdout",
     "output_type": "stream",
     "text": [
      "   Year quarter        city1   fare     passengers       \n",
      "                               mean std        sum   mean\n",
      "0  2023       1  Los Angeles  180.0 NaN        400  400.0\n",
      "1  2023       1     New York  200.0 NaN        500  500.0\n",
      "2  2023       2  Los Angeles  220.0 NaN        450  450.0\n",
      "3  2023       2     New York  250.0 NaN        600  600.0\n",
      "4  2024       1      Chicago  210.0 NaN        550  550.0\n",
      "5  2024       2      Chicago  230.0 NaN        600  600.0\n"
     ]
    }
   ],
   "source": [
    "# Performing multiple statistical operations\n",
    "grouped_stats = df.groupby(['Year', 'quarter', 'city1']).agg({\n",
    "    'fare': ['mean', 'std'],       # Calculate mean and standard deviation for 'fare'\n",
    "    'passengers': ['sum', 'mean']  # Calculate sum and mean for 'passengers'\n",
    "}).reset_index()\n",
    "\n",
    "# Print the result\n",
    "print(grouped_stats)\n"
   ]
  },
  {
   "cell_type": "code",
   "execution_count": 18,
   "metadata": {},
   "outputs": [
    {
     "name": "stdout",
     "output_type": "stream",
     "text": [
      "   Year  quarter        city1  fare  passengers  Fare Difference from Mean\n",
      "0  2023        1     New York   200         500                      -25.0\n",
      "1  2023        2     New York   250         600                       25.0\n",
      "2  2023        1  Los Angeles   180         400                      -20.0\n",
      "3  2023        2  Los Angeles   220         450                       20.0\n",
      "4  2024        1      Chicago   210         550                      -10.0\n",
      "5  2024        2      Chicago   230         600                       10.0\n"
     ]
    }
   ],
   "source": [
    "# Grouping by 'city1' column and calculating the 'fare' difference from the mean for each row\n",
    "df['Fare Difference from Mean'] = df.groupby('city1')['fare'].transform(lambda x: x - x.mean())\n",
    "\n",
    "# Print the result\n",
    "print(df)\n"
   ]
  },
  {
   "cell_type": "code",
   "execution_count": 29,
   "metadata": {},
   "outputs": [
    {
     "name": "stdout",
     "output_type": "stream",
     "text": [
      "Average Fare: 215.0\n"
     ]
    }
   ],
   "source": [
    "# Calculate averages for specific columns\n",
    "avg_fare = df['fare'].mean()           # Average fare\n",
    "print(f\"Average Fare: {avg_fare}\")"
   ]
  },
  {
   "cell_type": "code",
   "execution_count": 30,
   "metadata": {},
   "outputs": [
    {
     "name": "stdout",
     "output_type": "stream",
     "text": [
      "Average Passengers: 516.6666666666666\n"
     ]
    }
   ],
   "source": [
    "avg_passengers = df['passengers'].mean() \n",
    "print(f\"Average Passengers: {avg_passengers}\")"
   ]
  }
 ],
 "metadata": {
  "kernelspec": {
   "display_name": "base",
   "language": "python",
   "name": "python3"
  },
  "language_info": {
   "codemirror_mode": {
    "name": "ipython",
    "version": 3
   },
   "file_extension": ".py",
   "mimetype": "text/x-python",
   "name": "python",
   "nbconvert_exporter": "python",
   "pygments_lexer": "ipython3",
   "version": "3.12.4"
  }
 },
 "nbformat": 4,
 "nbformat_minor": 2
}
