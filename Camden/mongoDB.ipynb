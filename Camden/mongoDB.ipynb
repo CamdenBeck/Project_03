{
 "cells": [
  {
   "cell_type": "markdown",
   "metadata": {},
   "source": [
    "Importing the data into MongoDB"
   ]
  },
  {
   "cell_type": "code",
   "execution_count": 1,
   "metadata": {},
   "outputs": [],
   "source": [
    "# Import the dependencies for MongoDB\n",
    "from pymongo import MongoClient\n",
    "from pprint import pprint"
   ]
  },
  {
   "cell_type": "code",
   "execution_count": 2,
   "metadata": {},
   "outputs": [],
   "source": [
    "# Create an instance of the MongoClient\n",
    "mongo = MongoClient(port=27017)"
   ]
  },
  {
   "cell_type": "code",
   "execution_count": 3,
   "metadata": {},
   "outputs": [
    {
     "name": "stdout",
     "output_type": "stream",
     "text": [
      "['admin', 'config', 'epa', 'flight_data', 'local', 'met', 'petsitly_marketing', 'uk_food']\n"
     ]
    }
   ],
   "source": [
    "# Confirm the connection by listing the database names\n",
    "print(mongo.list_database_names())"
   ]
  },
  {
   "cell_type": "markdown",
   "metadata": {},
   "source": [
    "Use the terminal to import the flight data using this command:\n",
    "\n",
    "mongoimport --db flight_data_db --collection flight_data --type csv --headerline --drop --file ../Data/CSV/cleaned_flight_data.csv"
   ]
  },
  {
   "cell_type": "code",
   "execution_count": 4,
   "metadata": {},
   "outputs": [],
   "source": [
    "# Assign the database to a variable\n",
    "db = mongo['flight_data']"
   ]
  },
  {
   "cell_type": "code",
   "execution_count": 5,
   "metadata": {},
   "outputs": [
    {
     "name": "stdout",
     "output_type": "stream",
     "text": [
      "['flights']\n"
     ]
    }
   ],
   "source": [
    "# Review the collections in the database\n",
    "print(db.list_collection_names())"
   ]
  },
  {
   "cell_type": "code",
   "execution_count": 7,
   "metadata": {},
   "outputs": [
    {
     "name": "stdout",
     "output_type": "stream",
     "text": [
      "{'Year': 2010,\n",
      " '_id': ObjectId('679845ccb6f7d3e6bf2ccf78'),\n",
      " 'arrival_airport': 'TPA',\n",
      " 'arrival_airport_id': 15304,\n",
      " 'arrival_city': 'Tampa, FL (Metropolitan Area)',\n",
      " 'arrival_city_id': 33195,\n",
      " 'arrival_latitude': 37.8606,\n",
      " 'arrival_longitude': -78.804199,\n",
      " 'carrier_lg': 'Delta Air Lines Inc.',\n",
      " 'carrier_low': 'US Airways Group Inc.',\n",
      " 'departure_airport': 'SLC',\n",
      " 'departure_airport_id': 14869,\n",
      " 'departure_city': 'Salt Lake City, UT',\n",
      " 'departure_city_id': 34614,\n",
      " 'departure_latitude': 40.758478,\n",
      " 'departure_longitude': -111.888142,\n",
      " 'fare': 226.59,\n",
      " 'fare_lg': 247.69,\n",
      " 'fare_low': 166.99,\n",
      " 'large_ms': 0.38,\n",
      " 'lf_ms': 0.2,\n",
      " 'nsmiles': 1887,\n",
      " 'passengers': 200,\n",
      " 'quarter': 1,\n",
      " 'tbl': 'Table 1a',\n",
      " 'tbl1apk': '201011486915304SLCTPA'}\n"
     ]
    }
   ],
   "source": [
    "# Review the first document in the collection\n",
    "pprint(db['flights'].find_one())"
   ]
  },
  {
   "cell_type": "code",
   "execution_count": 11,
   "metadata": {},
   "outputs": [],
   "source": [
    "# Save the data to json file\n",
    "import json\n",
    "from bson import ObjectId\n",
    "\n",
    "def convert_objectid(obj):\n",
    "    if isinstance(obj, ObjectId):\n",
    "        return str(obj)\n",
    "    raise TypeError(\"Object of type %s is not JSON serializable\" % type(obj).__name__)\n",
    "\n",
    "with open('../Data/JSON/flights.json', 'w') as f:\n",
    "    json.dump(list(db['flights'].find()), f, default=convert_objectid)"
   ]
  },
  {
   "cell_type": "code",
   "execution_count": 12,
   "metadata": {},
   "outputs": [],
   "source": [
    "# Close the connection\n",
    "mongo.close()"
   ]
  },
  {
   "cell_type": "code",
   "execution_count": null,
   "metadata": {},
   "outputs": [],
   "source": []
  }
 ],
 "metadata": {
  "kernelspec": {
   "display_name": "base",
   "language": "python",
   "name": "python3"
  },
  "language_info": {
   "codemirror_mode": {
    "name": "ipython",
    "version": 3
   },
   "file_extension": ".py",
   "mimetype": "text/x-python",
   "name": "python",
   "nbconvert_exporter": "python",
   "pygments_lexer": "ipython3",
   "version": "3.12.4"
  }
 },
 "nbformat": 4,
 "nbformat_minor": 2
}
