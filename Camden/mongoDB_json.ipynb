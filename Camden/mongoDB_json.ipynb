{
 "cells": [
  {
   "cell_type": "code",
   "execution_count": 55,
   "metadata": {},
   "outputs": [],
   "source": [
    "# Import the dependencies\n",
    "from pymongo import MongoClient\n",
    "from pprint import pprint\n",
    "import json"
   ]
  },
  {
   "cell_type": "code",
   "execution_count": 56,
   "metadata": {},
   "outputs": [],
   "source": [
    "# Make a connection to the MongoDB server\n",
    "mongo = MongoClient(port=27017)"
   ]
  },
  {
   "cell_type": "code",
   "execution_count": 57,
   "metadata": {},
   "outputs": [
    {
     "name": "stdout",
     "output_type": "stream",
     "text": [
      "['admin', 'config', 'epa', 'flight_data', 'local', 'met', 'petsitly_marketing', 'uk_food']\n"
     ]
    }
   ],
   "source": [
    "# List the databases\n",
    "print(mongo.list_database_names())"
   ]
  },
  {
   "cell_type": "code",
   "execution_count": 58,
   "metadata": {},
   "outputs": [],
   "source": [
    "# Connect to the 'flight_data' database\n",
    "db = mongo['flight_data']"
   ]
  },
  {
   "cell_type": "markdown",
   "metadata": {},
   "source": [
    "Import the data from \"US Airline Flight Routes and Fares 1993-2024.csv\" using this command:\n",
    "\n",
    "```shell\n",
    "mongoimport --db flight_data --collection flights --drop --type csv --headerline --file \"../Data/CSV/cleaned_flight_data.csv\"\n",
    "```"
   ]
  },
  {
   "cell_type": "code",
   "execution_count": 59,
   "metadata": {},
   "outputs": [
    {
     "name": "stdout",
     "output_type": "stream",
     "text": [
      "['flights']\n"
     ]
    }
   ],
   "source": [
    "# List the collections\n",
    "print(db.list_collection_names())"
   ]
  },
  {
   "cell_type": "code",
   "execution_count": 60,
   "metadata": {},
   "outputs": [
    {
     "name": "stdout",
     "output_type": "stream",
     "text": [
      "{'Year': 2010,\n",
      " '_id': ObjectId('679c2bfb9f914d124e2d32f5'),\n",
      " 'arrival_airport': 'TPA',\n",
      " 'arrival_airport_id': 15304,\n",
      " 'arrival_city': 'Tampa, FL (Metropolitan Area)',\n",
      " 'arrival_city_id': 33195,\n",
      " 'arrival_latitude': 37.8606,\n",
      " 'arrival_longitude': -78.804199,\n",
      " 'carrier_lg': 'Delta Air Lines Inc.',\n",
      " 'carrier_low': 'US Airways Group Inc.',\n",
      " 'departure_airport': 'SLC',\n",
      " 'departure_airport_id': 14869,\n",
      " 'departure_city': 'Salt Lake City, UT',\n",
      " 'departure_city_id': 34614,\n",
      " 'departure_latitude': 40.758478,\n",
      " 'departure_longitude': -111.888142,\n",
      " 'fare': 226.59,\n",
      " 'fare_lg': 247.69,\n",
      " 'fare_low': 166.99,\n",
      " 'large_ms': 0.38,\n",
      " 'lf_ms': 0.2,\n",
      " 'nsmiles': 1887,\n",
      " 'passengers': 200,\n",
      " 'quarter': 1,\n",
      " 'tbl': 'Table 1a',\n",
      " 'tbl1apk': '201011486915304SLCTPA'}\n"
     ]
    }
   ],
   "source": [
    "# Return the first document in the 'flights' collection\n",
    "pprint(db.flights.find_one())"
   ]
  },
  {
   "cell_type": "code",
   "execution_count": 61,
   "metadata": {},
   "outputs": [],
   "source": [
    "# Add a new collection to the database using this document for reference\n",
    "db.create_collection('locations')\n",
    "\n",
    "# Iterate through each document in the 'flights' collection and add it to the 'locations' collection\n",
    "for flight in db.flights.find():\n",
    "    location_document = {\n",
    "        \"_id\": flight[\"_id\"],\n",
    "        \"arrival_airport\": flight[\"arrival_airport\"],\n",
    "        \"arrival_airport_id\": flight[\"arrival_airport_id\"],\n",
    "        \"arrival_city\": flight[\"arrival_city\"],\n",
    "        \"arrival_city_id\": flight[\"arrival_city_id\"],\n",
    "        \"arrival_latitude\": flight[\"arrival_latitude\"],\n",
    "        \"arrival_longitude\": flight[\"arrival_longitude\"],\n",
    "        \"departure_airport\": flight[\"departure_airport\"],\n",
    "        \"departure_airport_id\": flight[\"departure_airport_id\"],\n",
    "        \"departure_city\": flight[\"departure_city\"],\n",
    "        \"departure_city_id\": flight[\"departure_city_id\"],\n",
    "        \"departure_latitude\": flight[\"departure_latitude\"],\n",
    "        \"departure_longitude\": flight[\"departure_longitude\"]\n",
    "    }\n",
    "    db.locations.insert_one(location_document)"
   ]
  },
  {
   "cell_type": "code",
   "execution_count": 62,
   "metadata": {},
   "outputs": [
    {
     "name": "stdout",
     "output_type": "stream",
     "text": [
      "{'_id': ObjectId('679c2bfb9f914d124e2d32f5'),\n",
      " 'arrival_airport': 'TPA',\n",
      " 'arrival_airport_id': 15304,\n",
      " 'arrival_city': 'Tampa, FL (Metropolitan Area)',\n",
      " 'arrival_city_id': 33195,\n",
      " 'arrival_latitude': 37.8606,\n",
      " 'arrival_longitude': -78.804199,\n",
      " 'departure_airport': 'SLC',\n",
      " 'departure_airport_id': 14869,\n",
      " 'departure_city': 'Salt Lake City, UT',\n",
      " 'departure_city_id': 34614,\n",
      " 'departure_latitude': 40.758478,\n",
      " 'departure_longitude': -111.888142}\n"
     ]
    }
   ],
   "source": [
    "# Print the first document in the \"locations\" collection\n",
    "pprint(db.locations.find_one())"
   ]
  },
  {
   "cell_type": "code",
   "execution_count": 63,
   "metadata": {},
   "outputs": [],
   "source": [
    "from bson import ObjectId\n",
    "\n",
    "# Write the \"flights\" collection to a json file\n",
    "def convert_objectid(obj):\n",
    "    if isinstance(obj, ObjectId):\n",
    "        return str(obj)\n",
    "    raise TypeError(\"Object of type %s is not JSON serializable\" % type(obj).__name__)\n",
    "\n",
    "with open('../Data/JSON/flights.json', 'w') as f:\n",
    "    json.dump(list(db.flights.find()), f, default=convert_objectid)"
   ]
  },
  {
   "cell_type": "code",
   "execution_count": 64,
   "metadata": {},
   "outputs": [],
   "source": [
    "# Write the \"locations\" collection to a json file\n",
    "with open('../Data/JSON/locations.json', 'w') as f:\n",
    "    json.dump(list(db.locations.find()), f, default=convert_objectid)"
   ]
  },
  {
   "cell_type": "code",
   "execution_count": 65,
   "metadata": {},
   "outputs": [],
   "source": [
    "# Close the connection\n",
    "mongo.close()"
   ]
  },
  {
   "cell_type": "code",
   "execution_count": null,
   "metadata": {},
   "outputs": [],
   "source": []
  }
 ],
 "metadata": {
  "kernelspec": {
   "display_name": "base",
   "language": "python",
   "name": "python3"
  },
  "language_info": {
   "codemirror_mode": {
    "name": "ipython",
    "version": 3
   },
   "file_extension": ".py",
   "mimetype": "text/x-python",
   "name": "python",
   "nbconvert_exporter": "python",
   "pygments_lexer": "ipython3",
   "version": "3.12.4"
  }
 },
 "nbformat": 4,
 "nbformat_minor": 2
}
